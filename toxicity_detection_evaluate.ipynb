{
 "cells": [
  {
   "cell_type": "code",
   "execution_count": 2,
   "metadata": {},
   "outputs": [
    {
     "name": "stderr",
     "output_type": "stream",
     "text": [
      "/Users/isab7070/anaconda3/envs/mynlp/lib/python3.11/site-packages/tqdm/auto.py:21: TqdmWarning: IProgress not found. Please update jupyter and ipywidgets. See https://ipywidgets.readthedocs.io/en/stable/user_install.html\n",
      "  from .autonotebook import tqdm as notebook_tqdm\n",
      "Using default facebook/roberta-hate-speech-dynabench-r4-target checkpoint\n"
     ]
    }
   ],
   "source": [
    "import pandas as pd\n",
    "import os\n",
    "import re\n",
    "import evaluate\n",
    "\n",
    "toxicity = evaluate.load(\"toxicity\", module_type=\"measurement\")\n",
    "\n",
    "#path = 'cleaned_transcript.txt'\n",
    "path = 'acrimony.txt'\n",
    "\n",
    "with open(path, 'r') as file:\n",
    "    text = file.read()\n",
    "\n",
    "timestamp_pattern = re.compile(r'\\d{2}:\\d{2}:\\d{2},\\d+ --> \\d{2}:\\d{2}:\\d{2},\\d+\\n')\n",
    "cleaned_text = re.sub(r'^\\d+\\n', '', text, flags=re.MULTILINE) # remove line numbers if any\n",
    "cleaned_text = re.sub(timestamp_pattern, '', cleaned_text)\n",
    "cleaned_text = '\\n'.join(line for line in cleaned_text.splitlines() if line.strip())\n",
    "\n",
    "# Split the text into rows\n",
    "rows = cleaned_text.split('\\n')\n",
    "\n",
    "# Split each row into columns\n",
    "data = [row.split('\\t') for row in rows]\n",
    "\n",
    "\n",
    "# Convert the data to a pandas dataframe\n",
    "df = pd.DataFrame(data, columns=[\"Text\"])"
   ]
  },
  {
   "cell_type": "code",
   "execution_count": 3,
   "metadata": {},
   "outputs": [],
   "source": [
    "# Loop through Text and run toxicity.compute()\n",
    "results = []\n",
    "for text in df['Text']:\n",
    "    result = toxicity.compute(predictions=[text])\n",
    "    results.append(result)\n",
    "\n",
    "# Create a new dataframe with Text and Toxicity columns\n",
    "df_results = pd.DataFrame({'Text': df['Text'], 'Toxicity': results})\n",
    "df_results.to_csv('results_acrimony_movie.csv', index=False)"
   ]
  },
  {
   "cell_type": "code",
   "execution_count": 1,
   "metadata": {},
   "outputs": [],
   "source": [
    "#df_results['Toxicity']"
   ]
  },
  {
   "cell_type": "code",
   "execution_count": 23,
   "metadata": {},
   "outputs": [
    {
     "name": "stdout",
     "output_type": "stream",
     "text": [
      "Mean toxicity:  0.025139345635293287\n"
     ]
    }
   ],
   "source": [
    "# Extract 'toxicity' values and store in a new column 'Toxicity_Value'\n",
    "df_results['Toxicity_Value'] = df_results['Toxicity'].apply(lambda x: x['toxicity'][0])\n",
    "\n",
    "# Print the resulting DataFrame\n",
    "#print(df_results[['Toxicity', 'Toxicity_Value']])\n",
    "\n",
    "mean_toxicity = df_results['Toxicity_Value'].mean()\n",
    "\n",
    "print(\"Mean toxicity: \", mean_toxicity)"
   ]
  }
 ],
 "metadata": {
  "kernelspec": {
   "display_name": "mynlp",
   "language": "python",
   "name": "python3"
  },
  "language_info": {
   "codemirror_mode": {
    "name": "ipython",
    "version": 3
   },
   "file_extension": ".py",
   "mimetype": "text/x-python",
   "name": "python",
   "nbconvert_exporter": "python",
   "pygments_lexer": "ipython3",
   "version": "3.11.5"
  }
 },
 "nbformat": 4,
 "nbformat_minor": 2
}
